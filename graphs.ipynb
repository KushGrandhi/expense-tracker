{
 "cells": [
  {
   "cell_type": "code",
   "execution_count": 69,
   "metadata": {},
   "outputs": [],
   "source": [
    "import matplotlib.pyplot as plt\n",
    "import sklearn\n",
    "import pandas as pd\n",
    "import numpy as np\n",
    "plt.style.use('fivethirtyeight')"
   ]
  },
  {
   "cell_type": "code",
   "execution_count": 70,
   "metadata": {},
   "outputs": [
    {
     "data": {
      "text/html": [
       "<div>\n",
       "<style scoped>\n",
       "    .dataframe tbody tr th:only-of-type {\n",
       "        vertical-align: middle;\n",
       "    }\n",
       "\n",
       "    .dataframe tbody tr th {\n",
       "        vertical-align: top;\n",
       "    }\n",
       "\n",
       "    .dataframe thead th {\n",
       "        text-align: right;\n",
       "    }\n",
       "</style>\n",
       "<table border=\"1\" class=\"dataframe\">\n",
       "  <thead>\n",
       "    <tr style=\"text-align: right;\">\n",
       "      <th></th>\n",
       "      <th>Sno</th>\n",
       "      <th>ValueDate</th>\n",
       "      <th>TransactionDate</th>\n",
       "      <th>ChequeNumber</th>\n",
       "      <th>TransactionRemarks</th>\n",
       "      <th>WithdrawalAmount</th>\n",
       "      <th>DepositAmount</th>\n",
       "      <th>Balance</th>\n",
       "    </tr>\n",
       "  </thead>\n",
       "  <tbody>\n",
       "    <tr>\n",
       "      <th>0</th>\n",
       "      <td>1</td>\n",
       "      <td>13-07-2019</td>\n",
       "      <td>15-07-2019</td>\n",
       "      <td>-</td>\n",
       "      <td>UPI/919410941037/NA/q18489499@ybl/            ...</td>\n",
       "      <td>1000.0</td>\n",
       "      <td>0.0</td>\n",
       "      <td>30844.18</td>\n",
       "    </tr>\n",
       "    <tr>\n",
       "      <th>1</th>\n",
       "      <td>2</td>\n",
       "      <td>13-07-2019</td>\n",
       "      <td>15-07-2019</td>\n",
       "      <td>-</td>\n",
       "      <td>IPS/MANESH PHAR/201907131104/000000001602/CHEN...</td>\n",
       "      <td>705.0</td>\n",
       "      <td>0.0</td>\n",
       "      <td>30139.18</td>\n",
       "    </tr>\n",
       "    <tr>\n",
       "      <th>2</th>\n",
       "      <td>3</td>\n",
       "      <td>17-07-2019</td>\n",
       "      <td>17-07-2019</td>\n",
       "      <td>-</td>\n",
       "      <td>VIN/INERGLOBE A/201907171127/919805963327/    ...</td>\n",
       "      <td>350.0</td>\n",
       "      <td>0.0</td>\n",
       "      <td>29789.18</td>\n",
       "    </tr>\n",
       "    <tr>\n",
       "      <th>3</th>\n",
       "      <td>4</td>\n",
       "      <td>17-07-2019</td>\n",
       "      <td>17-07-2019</td>\n",
       "      <td>-</td>\n",
       "      <td>ATM/SACWF854/CASH WDL/17-07-19                ...</td>\n",
       "      <td>900.0</td>\n",
       "      <td>0.0</td>\n",
       "      <td>28889.18</td>\n",
       "    </tr>\n",
       "    <tr>\n",
       "      <th>4</th>\n",
       "      <td>5</td>\n",
       "      <td>23-07-2019</td>\n",
       "      <td>23-07-2019</td>\n",
       "      <td>-</td>\n",
       "      <td>ATM/SACWF854/CASH WDL/23-07-19                ...</td>\n",
       "      <td>200.0</td>\n",
       "      <td>0.0</td>\n",
       "      <td>28689.18</td>\n",
       "    </tr>\n",
       "  </tbody>\n",
       "</table>\n",
       "</div>"
      ],
      "text/plain": [
       "   Sno   ValueDate TransactionDate ChequeNumber  \\\n",
       "0    1  13-07-2019      15-07-2019            -   \n",
       "1    2  13-07-2019      15-07-2019            -   \n",
       "2    3  17-07-2019      17-07-2019            -   \n",
       "3    4  17-07-2019      17-07-2019            -   \n",
       "4    5  23-07-2019      23-07-2019            -   \n",
       "\n",
       "                                  TransactionRemarks  WithdrawalAmount  \\\n",
       "0  UPI/919410941037/NA/q18489499@ybl/            ...            1000.0   \n",
       "1  IPS/MANESH PHAR/201907131104/000000001602/CHEN...             705.0   \n",
       "2  VIN/INERGLOBE A/201907171127/919805963327/    ...             350.0   \n",
       "3  ATM/SACWF854/CASH WDL/17-07-19                ...             900.0   \n",
       "4  ATM/SACWF854/CASH WDL/23-07-19                ...             200.0   \n",
       "\n",
       "   DepositAmount   Balance  \n",
       "0            0.0  30844.18  \n",
       "1            0.0  30139.18  \n",
       "2            0.0  29789.18  \n",
       "3            0.0  28889.18  \n",
       "4            0.0  28689.18  "
      ]
     },
     "execution_count": 70,
     "metadata": {},
     "output_type": "execute_result"
    }
   ],
   "source": [
    "data = pd.read_csv(\"OpTransactionHistory10-07-2020.csv\")\n",
    "data.head()"
   ]
  },
  {
   "cell_type": "code",
   "execution_count": 71,
   "metadata": {},
   "outputs": [
    {
     "data": {
      "text/html": [
       "<div>\n",
       "<style scoped>\n",
       "    .dataframe tbody tr th:only-of-type {\n",
       "        vertical-align: middle;\n",
       "    }\n",
       "\n",
       "    .dataframe tbody tr th {\n",
       "        vertical-align: top;\n",
       "    }\n",
       "\n",
       "    .dataframe thead th {\n",
       "        text-align: right;\n",
       "    }\n",
       "</style>\n",
       "<table border=\"1\" class=\"dataframe\">\n",
       "  <thead>\n",
       "    <tr style=\"text-align: right;\">\n",
       "      <th></th>\n",
       "      <th>Sno</th>\n",
       "      <th>ValueDate</th>\n",
       "      <th>TransactionDate</th>\n",
       "      <th>ChequeNumber</th>\n",
       "      <th>TransactionRemarks</th>\n",
       "      <th>WithdrawalAmount</th>\n",
       "      <th>DepositAmount</th>\n",
       "      <th>Balance</th>\n",
       "    </tr>\n",
       "  </thead>\n",
       "  <tbody>\n",
       "    <tr>\n",
       "      <th>count</th>\n",
       "      <td>594.000000</td>\n",
       "      <td>594</td>\n",
       "      <td>594</td>\n",
       "      <td>594</td>\n",
       "      <td>594</td>\n",
       "      <td>594.000000</td>\n",
       "      <td>594.000000</td>\n",
       "      <td>594.000000</td>\n",
       "    </tr>\n",
       "    <tr>\n",
       "      <th>unique</th>\n",
       "      <td>NaN</td>\n",
       "      <td>207</td>\n",
       "      <td>171</td>\n",
       "      <td>1</td>\n",
       "      <td>593</td>\n",
       "      <td>NaN</td>\n",
       "      <td>NaN</td>\n",
       "      <td>NaN</td>\n",
       "    </tr>\n",
       "    <tr>\n",
       "      <th>top</th>\n",
       "      <td>NaN</td>\n",
       "      <td>08-03-2020</td>\n",
       "      <td>16-03-2020</td>\n",
       "      <td>-</td>\n",
       "      <td>POSDEC CHG/17-08-2019/1685+GST                ...</td>\n",
       "      <td>NaN</td>\n",
       "      <td>NaN</td>\n",
       "      <td>NaN</td>\n",
       "    </tr>\n",
       "    <tr>\n",
       "      <th>freq</th>\n",
       "      <td>NaN</td>\n",
       "      <td>12</td>\n",
       "      <td>22</td>\n",
       "      <td>594</td>\n",
       "      <td>2</td>\n",
       "      <td>NaN</td>\n",
       "      <td>NaN</td>\n",
       "      <td>NaN</td>\n",
       "    </tr>\n",
       "    <tr>\n",
       "      <th>mean</th>\n",
       "      <td>298.436027</td>\n",
       "      <td>NaN</td>\n",
       "      <td>NaN</td>\n",
       "      <td>NaN</td>\n",
       "      <td>NaN</td>\n",
       "      <td>291.358266</td>\n",
       "      <td>330.368013</td>\n",
       "      <td>10432.161953</td>\n",
       "    </tr>\n",
       "    <tr>\n",
       "      <th>std</th>\n",
       "      <td>172.864060</td>\n",
       "      <td>NaN</td>\n",
       "      <td>NaN</td>\n",
       "      <td>NaN</td>\n",
       "      <td>NaN</td>\n",
       "      <td>1391.307367</td>\n",
       "      <td>2030.754453</td>\n",
       "      <td>11626.649297</td>\n",
       "    </tr>\n",
       "    <tr>\n",
       "      <th>min</th>\n",
       "      <td>1.000000</td>\n",
       "      <td>NaN</td>\n",
       "      <td>NaN</td>\n",
       "      <td>NaN</td>\n",
       "      <td>NaN</td>\n",
       "      <td>0.000000</td>\n",
       "      <td>0.000000</td>\n",
       "      <td>-1899.720000</td>\n",
       "    </tr>\n",
       "    <tr>\n",
       "      <th>25%</th>\n",
       "      <td>149.250000</td>\n",
       "      <td>NaN</td>\n",
       "      <td>NaN</td>\n",
       "      <td>NaN</td>\n",
       "      <td>NaN</td>\n",
       "      <td>20.000000</td>\n",
       "      <td>0.000000</td>\n",
       "      <td>1696.265000</td>\n",
       "    </tr>\n",
       "    <tr>\n",
       "      <th>50%</th>\n",
       "      <td>297.500000</td>\n",
       "      <td>NaN</td>\n",
       "      <td>NaN</td>\n",
       "      <td>NaN</td>\n",
       "      <td>NaN</td>\n",
       "      <td>59.500000</td>\n",
       "      <td>0.000000</td>\n",
       "      <td>4656.515000</td>\n",
       "    </tr>\n",
       "    <tr>\n",
       "      <th>75%</th>\n",
       "      <td>445.750000</td>\n",
       "      <td>NaN</td>\n",
       "      <td>NaN</td>\n",
       "      <td>NaN</td>\n",
       "      <td>NaN</td>\n",
       "      <td>179.500000</td>\n",
       "      <td>0.000000</td>\n",
       "      <td>25743.277500</td>\n",
       "    </tr>\n",
       "    <tr>\n",
       "      <th>max</th>\n",
       "      <td>598.000000</td>\n",
       "      <td>NaN</td>\n",
       "      <td>NaN</td>\n",
       "      <td>NaN</td>\n",
       "      <td>NaN</td>\n",
       "      <td>20000.000000</td>\n",
       "      <td>25000.000000</td>\n",
       "      <td>46439.810000</td>\n",
       "    </tr>\n",
       "  </tbody>\n",
       "</table>\n",
       "</div>"
      ],
      "text/plain": [
       "               Sno   ValueDate TransactionDate ChequeNumber  \\\n",
       "count   594.000000         594             594          594   \n",
       "unique         NaN         207             171            1   \n",
       "top            NaN  08-03-2020      16-03-2020            -   \n",
       "freq           NaN          12              22          594   \n",
       "mean    298.436027         NaN             NaN          NaN   \n",
       "std     172.864060         NaN             NaN          NaN   \n",
       "min       1.000000         NaN             NaN          NaN   \n",
       "25%     149.250000         NaN             NaN          NaN   \n",
       "50%     297.500000         NaN             NaN          NaN   \n",
       "75%     445.750000         NaN             NaN          NaN   \n",
       "max     598.000000         NaN             NaN          NaN   \n",
       "\n",
       "                                       TransactionRemarks  WithdrawalAmount  \\\n",
       "count                                                 594        594.000000   \n",
       "unique                                                593               NaN   \n",
       "top     POSDEC CHG/17-08-2019/1685+GST                ...               NaN   \n",
       "freq                                                    2               NaN   \n",
       "mean                                                  NaN        291.358266   \n",
       "std                                                   NaN       1391.307367   \n",
       "min                                                   NaN          0.000000   \n",
       "25%                                                   NaN         20.000000   \n",
       "50%                                                   NaN         59.500000   \n",
       "75%                                                   NaN        179.500000   \n",
       "max                                                   NaN      20000.000000   \n",
       "\n",
       "        DepositAmount       Balance  \n",
       "count      594.000000    594.000000  \n",
       "unique            NaN           NaN  \n",
       "top               NaN           NaN  \n",
       "freq              NaN           NaN  \n",
       "mean       330.368013  10432.161953  \n",
       "std       2030.754453  11626.649297  \n",
       "min          0.000000  -1899.720000  \n",
       "25%          0.000000   1696.265000  \n",
       "50%          0.000000   4656.515000  \n",
       "75%          0.000000  25743.277500  \n",
       "max      25000.000000  46439.810000  "
      ]
     },
     "execution_count": 71,
     "metadata": {},
     "output_type": "execute_result"
    }
   ],
   "source": [
    "data.describe(include = 'all')\n"
   ]
  },
  {
   "cell_type": "code",
   "execution_count": 72,
   "metadata": {},
   "outputs": [],
   "source": [
    "#preprocessing\n",
    "date = []\n",
    "withdrawal = []\n",
    "deposit = []\n",
    "for a in data.ValueDate:\n",
    "    date.append(a)\n",
    "    \n",
    "for a in data.WithdrawalAmount:\n",
    "    withdrawal.append(a)\n",
    "    \n",
    "for a in data.DepositAmount:\n",
    "    deposit.append(a)\n"
   ]
  },
  {
   "cell_type": "code",
   "execution_count": null,
   "metadata": {},
   "outputs": [],
   "source": [
    "plt.xlabel('category',size = 10)\n",
    "plt.ylabel('frequency', size = 10)\n",
    "plt.rc('xtick', labelsize=10)    # fontsize of the tick labels\n",
    "plt.rc('ytick', labelsize=10) "
   ]
  },
  {
   "cell_type": "code",
   "execution_count": 73,
   "metadata": {},
   "outputs": [
    {
     "data": {
      "text/plain": [
       "Sno                     int64\n",
       "ValueDate              object\n",
       "TransactionDate        object\n",
       "ChequeNumber           object\n",
       "TransactionRemarks     object\n",
       "WithdrawalAmount      float64\n",
       "DepositAmount         float64\n",
       "Balance               float64\n",
       "dtype: object"
      ]
     },
     "execution_count": 73,
     "metadata": {},
     "output_type": "execute_result"
    }
   ],
   "source": [
    "data.dtypes\n"
   ]
  },
  {
   "cell_type": "code",
   "execution_count": 146,
   "metadata": {},
   "outputs": [],
   "source": [
    "#preprocessing, spliting date into day month and year\n",
    "day = []\n",
    "month = []\n",
    "year = []\n",
    "\n",
    "\n",
    "for a in date:\n",
    "    d1 = a.split('-')\n",
    "    day.append(d1[0])\n",
    "    month.append(d1[1])\n",
    "    year.append(d1[2])\n",
    "\n",
    "umonth = []\n",
    "for item in month: \n",
    "    if item not in umonth: \n",
    "        umonth.append(item) \n",
    "l=[0,0,0,0,0]\n",
    "for item in withdrawal:\n",
    "    if item < 100:\n",
    "        l[0]+=1\n",
    "    elif item <200:\n",
    "        l[1]+=1\n",
    "    elif item <500:\n",
    "        l[2]+=1\n",
    "    elif item <1000:\n",
    "        l[3]+=1\n",
    "    else:\n",
    "        l[4]+=1"
   ]
  },
  {
   "cell_type": "code",
   "execution_count": 123,
   "metadata": {},
   "outputs": [],
   "source": [
    "def monthtot(li):    \n",
    "    monthsum = []\n",
    "    nm = month[0]\n",
    "    total=0\n",
    "    for num, one in enumerate(li):\n",
    "        if nm == month[num]:\n",
    "            total += one\n",
    "        else:\n",
    "            total +=one\n",
    "            monthsum.append(total)\n",
    "            total = 0\n",
    "        nm = month[num]\n",
    "    return monthsum\n"
   ]
  },
  {
   "cell_type": "code",
   "execution_count": 125,
   "metadata": {},
   "outputs": [
    {
     "data": {
      "image/png": "[encoded data removed]",
      "text/plain": [
       "<Figure size 432x288 with 1 Axes>"
      ]
     },
     "metadata": {},
     "output_type": "display_data"
    }
   ],
   "source": [
    "# Bar Graph for monthly money taken\n",
    "udep = monthtot(deposit)\n",
    "plt.bar(umonth,udep)\n",
    "plt.show()\n",
    "#changes to make- instead of only date, change it to month wise category(preprocessing)"
   ]
  },
  {
   "cell_type": "code",
   "execution_count": 137,
   "metadata": {},
   "outputs": [
    {
     "data": {
      "image/png": "[encoded data removed]",
      "text/plain": [
       "<Figure size 432x288 with 1 Axes>"
      ]
     },
     "metadata": {},
     "output_type": "display_data"
    },
    {
     "name": "stdout",
     "output_type": "stream",
     "text": [
      "['07', '08', '09', '10', '11', '12', '01', '02', '03', '04', '05', '06'] [12038.75, 48671.87, 12754.279999999999, 13828.529999999999, 18019.59, 11001.350000000002, 25476.75, 11324.07, 16845.8, 25.0, 180.0, 2880.82]\n"
     ]
    }
   ],
   "source": [
    "# Bar Graph for monthly spending\n",
    "uwith = monthtot(withdrawal)\n",
    "plt.bar(umonth,uwith)\n",
    "plt.show()\n",
    "print(umonth, uwith)"
   ]
  },
  {
   "cell_type": "code",
   "execution_count": 147,
   "metadata": {},
   "outputs": [
    {
     "name": "stdout",
     "output_type": "stream",
     "text": [
      "[355, 95, 83, 36, 25]\n"
     ]
    },
    {
     "data": {
      "image/png": "[encoded data removed]",
      "text/plain": [
       "<Figure size 432x288 with 1 Axes>"
      ]
     },
     "metadata": {},
     "output_type": "display_data"
    }
   ],
   "source": [
    "x = ['<100','<200','<500','<1000','>1000']\n",
    "plt.bar(x,l)\n",
    "\n",
    "print(l)\n",
    "\n",
    "#changes to make - ₹100 intervals"
   ]
  }
 ],
 "metadata": {
  "kernelspec": {
   "display_name": "Python 3",
   "language": "python",
   "name": "python3"
  },
  "language_info": {
   "codemirror_mode": {
    "name": "ipython",
    "version": 3
   },
   "file_extension": ".py",
   "mimetype": "text/x-python",
   "name": "python",
   "nbconvert_exporter": "python",
   "pygments_lexer": "ipython3",
   "version": "3.7.6"
  }
 },
 "nbformat": 4,
 "nbformat_minor": 4
}
